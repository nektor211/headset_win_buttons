{
 "cells": [
  {
   "cell_type": "code",
   "execution_count": null,
   "metadata": {},
   "outputs": [],
   "source": [
    "import sounddevice as sd\n",
    "import win32api\n",
    "import win32con\n",
    "from time import sleep\n",
    "import numpy as np\n",
    "\n",
    "\n",
    "SAMPLE_RATE = 1000 # Sample rate for our input stream\n",
    "BLOCK_SIZE = 250# Number of samples before we trigger a processing callback\n",
    "\n",
    "SUPPRESS_SECONDS = 2\n",
    "\n",
    "SUPPRESS_BLOCKS = (SUPPRESS_SECONDS * SUPPRESS_SECONDS) // BLOCK_SIZE\n",
    "\n",
    "# TODO handle +/- buttons too by processing several blocks and properly detecting peaks\n",
    "\n",
    "\n",
    "VK_MEDIA_PLAY_PAUSE = 0xB3\n",
    "\n",
    "def toggle_play():\n",
    "    win32api.keybd_event(VK_MEDIA_PLAY_PAUSE, 0, 0, 0)\n",
    "\n",
    "class HeadsetButtonController:\n",
    "    times_pressed = 0\n",
    "    suppress = 0\n",
    "\n",
    "    def process_frames(self, indata, frames, time, status):\n",
    "        if self.suppress:\n",
    "            self.suppress -= 1\n",
    "        max_ = np.max(indata)\n",
    "\n",
    "        if max_ > 0.8:\n",
    "            # The button was pressed!\n",
    "            print('toggle_play')\n",
    "            toggle_play()\n",
    "            self.suppress = SUPPRESS_BLOCKS\n",
    "\n",
    "    def __init__(self):\n",
    "        self.stream = sd.InputStream(\n",
    "            samplerate=SAMPLE_RATE,\n",
    "            blocksize=BLOCK_SIZE,\n",
    "            channels=1,\n",
    "            callback=self.process_frames\n",
    "        )\n",
    "        self.stream.start()\n",
    "\n",
    "if __name__ == '__main__':\n",
    "    controller = HeadsetButtonController()\n",
    "\n",
    "    try:\n",
    "        while True:\n",
    "            sleep(10)\n",
    "    except:\n",
    "        controller.stream.stop()"
   ]
  }
 ],
 "metadata": {
  "kernelspec": {
   "display_name": "Python 3",
   "language": "python",
   "name": "python3"
  },
  "language_info": {
   "codemirror_mode": {
    "name": "ipython",
    "version": 3
   },
   "file_extension": ".py",
   "mimetype": "text/x-python",
   "name": "python",
   "nbconvert_exporter": "python",
   "pygments_lexer": "ipython3",
   "version": "3.6.5"
  }
 },
 "nbformat": 4,
 "nbformat_minor": 2
}
